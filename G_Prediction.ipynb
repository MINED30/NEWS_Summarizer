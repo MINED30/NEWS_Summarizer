{
  "cells": [
    {
      "cell_type": "markdown",
      "metadata": {
        "colab_type": "text",
        "id": "view-in-github"
      },
      "source": [
        "<a href=\"https://colab.research.google.com/github/Summarizer-cb/Gas_Energy_Summarization/blob/main/%5B%EC%B0%BD%EC%9A%B0%5D1208_Prediction.ipynb\" target=\"_parent\"><img src=\"https://colab.research.google.com/assets/colab-badge.svg\" alt=\"Open In Colab\"/></a>"
      ]
    },
    {
      "cell_type": "code",
      "execution_count": null,
      "metadata": {
        "colab": {
          "base_uri": "https://localhost:8080/"
        },
        "id": "WgskZOGvOo3r",
        "outputId": "dda6c32f-6db5-43ae-8677-5526cae5a215"
      },
      "outputs": [
        {
          "name": "stdout",
          "output_type": "stream",
          "text": [
            "Requirement already satisfied: transformers in /usr/local/lib/python3.7/dist-packages (4.12.5)\n",
            "Requirement already satisfied: tqdm>=4.27 in /usr/local/lib/python3.7/dist-packages (from transformers) (4.62.3)\n",
            "Requirement already satisfied: requests in /usr/local/lib/python3.7/dist-packages (from transformers) (2.23.0)\n",
            "Requirement already satisfied: sacremoses in /usr/local/lib/python3.7/dist-packages (from transformers) (0.0.46)\n",
            "Requirement already satisfied: tokenizers<0.11,>=0.10.1 in /usr/local/lib/python3.7/dist-packages (from transformers) (0.10.3)\n",
            "Requirement already satisfied: filelock in /usr/local/lib/python3.7/dist-packages (from transformers) (3.4.0)\n",
            "Requirement already satisfied: numpy>=1.17 in /usr/local/lib/python3.7/dist-packages (from transformers) (1.19.5)\n",
            "Requirement already satisfied: pyyaml>=5.1 in /usr/local/lib/python3.7/dist-packages (from transformers) (6.0)\n",
            "Requirement already satisfied: huggingface-hub<1.0,>=0.1.0 in /usr/local/lib/python3.7/dist-packages (from transformers) (0.2.1)\n",
            "Requirement already satisfied: regex!=2019.12.17 in /usr/local/lib/python3.7/dist-packages (from transformers) (2019.12.20)\n",
            "Requirement already satisfied: importlib-metadata in /usr/local/lib/python3.7/dist-packages (from transformers) (4.8.2)\n",
            "Requirement already satisfied: packaging>=20.0 in /usr/local/lib/python3.7/dist-packages (from transformers) (21.3)\n",
            "Requirement already satisfied: typing-extensions>=3.7.4.3 in /usr/local/lib/python3.7/dist-packages (from huggingface-hub<1.0,>=0.1.0->transformers) (3.10.0.2)\n",
            "Requirement already satisfied: pyparsing!=3.0.5,>=2.0.2 in /usr/local/lib/python3.7/dist-packages (from packaging>=20.0->transformers) (3.0.6)\n",
            "Requirement already satisfied: zipp>=0.5 in /usr/local/lib/python3.7/dist-packages (from importlib-metadata->transformers) (3.6.0)\n",
            "Requirement already satisfied: chardet<4,>=3.0.2 in /usr/local/lib/python3.7/dist-packages (from requests->transformers) (3.0.4)\n",
            "Requirement already satisfied: certifi>=2017.4.17 in /usr/local/lib/python3.7/dist-packages (from requests->transformers) (2021.10.8)\n",
            "Requirement already satisfied: idna<3,>=2.5 in /usr/local/lib/python3.7/dist-packages (from requests->transformers) (2.10)\n",
            "Requirement already satisfied: urllib3!=1.25.0,!=1.25.1,<1.26,>=1.21.1 in /usr/local/lib/python3.7/dist-packages (from requests->transformers) (1.24.3)\n",
            "Requirement already satisfied: click in /usr/local/lib/python3.7/dist-packages (from sacremoses->transformers) (7.1.2)\n",
            "Requirement already satisfied: six in /usr/local/lib/python3.7/dist-packages (from sacremoses->transformers) (1.15.0)\n",
            "Requirement already satisfied: joblib in /usr/local/lib/python3.7/dist-packages (from sacremoses->transformers) (1.1.0)\n"
          ]
        }
      ],
      "source": [
        "!pip install transformers\n",
        "import os\n",
        "import math\n",
        "import json\n",
        "import time\n",
        "import random\n",
        "import multiprocessing\n",
        "import json\n",
        "import glob\n",
        "import warnings\n",
        "warnings.filterwarnings(\"ignore\", category=UserWarning)\n",
        "\n",
        "import numpy as np\n",
        "import pandas as pd\n",
        "from tqdm.auto import tqdm, trange\n",
        "from sklearn import model_selection\n",
        "\n",
        "import torch\n",
        "import torch.nn as nn\n",
        "import torch.nn.functional as F\n",
        "from torch.nn import Parameter\n",
        "import torch.optim as optim\n",
        "from torch.utils.data.distributed import DistributedSampler\n",
        "from torch.utils.data import (\n",
        "    Dataset, DataLoader,\n",
        "    SequentialSampler, RandomSampler\n",
        ")\n",
        "import transformers\n",
        "from transformers import (AutoModel, AutoTokenizer, AdamW, BartForConditionalGeneration)\n"
      ]
    },
    {
      "cell_type": "code",
      "execution_count": null,
      "metadata": {
        "colab": {
          "base_uri": "https://localhost:8080/"
        },
        "id": "hL8IuDC6Ou2q",
        "outputId": "0c585d59-625a-438c-8b7d-6f70e9c26a9b"
      },
      "outputs": [
        {
          "data": {
            "text/plain": [
              "6596"
            ]
          },
          "execution_count": 2,
          "metadata": {},
          "output_type": "execute_result"
        }
      ],
      "source": [
        "with open('/<your_dir>/new_test.jsonl', \"r\", encoding=\"utf-8\") as f:\n",
        "    jsonl = list(f)\n",
        "test_data = []\n",
        "for json_str in jsonl:\n",
        "    test_data.append(json.loads(json_str))\n",
        "len(test_data)\n"
      ]
    },
    {
      "cell_type": "code",
      "execution_count": null,
      "metadata": {
        "colab": {
          "base_uri": "https://localhost:8080/",
          "height": 424
        },
        "id": "YzHnTLukOweY",
        "outputId": "fb391630-d4fd-46a6-ffa8-5ef258126161"
      },
      "outputs": [
        {
          "data": {
            "text/html": [
              "<div>\n",
              "<style scoped>\n",
              "    .dataframe tbody tr th:only-of-type {\n",
              "        vertical-align: middle;\n",
              "    }\n",
              "\n",
              "    .dataframe tbody tr th {\n",
              "        vertical-align: top;\n",
              "    }\n",
              "\n",
              "    .dataframe thead th {\n",
              "        text-align: right;\n",
              "    }\n",
              "</style>\n",
              "<table border=\"1\" class=\"dataframe\">\n",
              "  <thead>\n",
              "    <tr style=\"text-align: right;\">\n",
              "      <th></th>\n",
              "      <th>id</th>\n",
              "      <th>content</th>\n",
              "      <th>media</th>\n",
              "    </tr>\n",
              "  </thead>\n",
              "  <tbody>\n",
              "    <tr>\n",
              "      <th>0</th>\n",
              "      <td>472779091</td>\n",
              "      <td>[일본 사법당국의 출국금지 명령이 내려져 있던 카를로스 곤(65) 전 르노닛산 회장...</td>\n",
              "      <td>중앙일보</td>\n",
              "    </tr>\n",
              "    <tr>\n",
              "      <th>1</th>\n",
              "      <td>472779092</td>\n",
              "      <td>[본선에서 트럼프에 패할 수 있다는 우려 때문이다., 지지율 3위: 엘리자베스 워런...</td>\n",
              "      <td>중앙일보</td>\n",
              "    </tr>\n",
              "    <tr>\n",
              "      <th>2</th>\n",
              "      <td>472779093</td>\n",
              "      <td>[1월 1일 새해 김정은 북한 국무위원장은 모습을 드러내지 않았다., 2012년 집...</td>\n",
              "      <td>중앙일보</td>\n",
              "    </tr>\n",
              "    <tr>\n",
              "      <th>3</th>\n",
              "      <td>472779094</td>\n",
              "      <td>[국내 이동통신 3사(KT·SK텔레콤·LG유플러스)는 산토끼(신규 고객)를 잡느라 ...</td>\n",
              "      <td>중앙일보</td>\n",
              "    </tr>\n",
              "    <tr>\n",
              "      <th>4</th>\n",
              "      <td>472779095</td>\n",
              "      <td>[카를로스 곤(66)닛산자동차 전 회장의 ‘보석기간 중 탈출극’으로 인한 일본내 충...</td>\n",
              "      <td>중앙일보</td>\n",
              "    </tr>\n",
              "    <tr>\n",
              "      <th>...</th>\n",
              "      <td>...</td>\n",
              "      <td>...</td>\n",
              "      <td>...</td>\n",
              "    </tr>\n",
              "    <tr>\n",
              "      <th>6591</th>\n",
              "      <td>472785682</td>\n",
              "      <td>[제1조(목적)\", \"이 고시는 「온실가스 배출권의 할당 및 거래에 관한 법률」(이...</td>\n",
              "      <td>환경부</td>\n",
              "    </tr>\n",
              "    <tr>\n",
              "      <th>6592</th>\n",
              "      <td>472785683</td>\n",
              "      <td>[산업통상자원부와 한국가스안전공사는 겨울철 불법 가스용품 유통에 따른 가스사고 예방...</td>\n",
              "      <td>헤럴드경제</td>\n",
              "    </tr>\n",
              "    <tr>\n",
              "      <th>6593</th>\n",
              "      <td>472785684</td>\n",
              "      <td>[정부가 올해 안에 2050 탄소중립 시나리오와 2030년 국가 온실가스감축목표(N...</td>\n",
              "      <td>머니투데이</td>\n",
              "    </tr>\n",
              "    <tr>\n",
              "      <th>6594</th>\n",
              "      <td>472785685</td>\n",
              "      <td>[정부가 수소차 보급 활성화를 위해 수소 제조용 천연가스 요금을 한시적으로 낮춘다....</td>\n",
              "      <td>경향신문</td>\n",
              "    </tr>\n",
              "    <tr>\n",
              "      <th>6595</th>\n",
              "      <td>472785686</td>\n",
              "      <td>[한정애 환경부 장관이 3일(현지시간) 영국 글래스고에서 열린 제26차 유엔기후변화...</td>\n",
              "      <td>세계일보</td>\n",
              "    </tr>\n",
              "  </tbody>\n",
              "</table>\n",
              "<p>6596 rows × 3 columns</p>\n",
              "</div>"
            ],
            "text/plain": [
              "             id                                            content  media\n",
              "0     472779091  [일본 사법당국의 출국금지 명령이 내려져 있던 카를로스 곤(65) 전 르노닛산 회장...   중앙일보\n",
              "1     472779092  [본선에서 트럼프에 패할 수 있다는 우려 때문이다., 지지율 3위: 엘리자베스 워런...   중앙일보\n",
              "2     472779093  [1월 1일 새해 김정은 북한 국무위원장은 모습을 드러내지 않았다., 2012년 집...   중앙일보\n",
              "3     472779094  [국내 이동통신 3사(KT·SK텔레콤·LG유플러스)는 산토끼(신규 고객)를 잡느라 ...   중앙일보\n",
              "4     472779095  [카를로스 곤(66)닛산자동차 전 회장의 ‘보석기간 중 탈출극’으로 인한 일본내 충...   중앙일보\n",
              "...         ...                                                ...    ...\n",
              "6591  472785682  [제1조(목적)\", \"이 고시는 「온실가스 배출권의 할당 및 거래에 관한 법률」(이...    환경부\n",
              "6592  472785683  [산업통상자원부와 한국가스안전공사는 겨울철 불법 가스용품 유통에 따른 가스사고 예방...  헤럴드경제\n",
              "6593  472785684  [정부가 올해 안에 2050 탄소중립 시나리오와 2030년 국가 온실가스감축목표(N...  머니투데이\n",
              "6594  472785685  [정부가 수소차 보급 활성화를 위해 수소 제조용 천연가스 요금을 한시적으로 낮춘다....   경향신문\n",
              "6595  472785686  [한정애 환경부 장관이 3일(현지시간) 영국 글래스고에서 열린 제26차 유엔기후변화...   세계일보\n",
              "\n",
              "[6596 rows x 3 columns]"
            ]
          },
          "execution_count": 3,
          "metadata": {},
          "output_type": "execute_result"
        }
      ],
      "source": [
        "dict_test = {'id':[],'content':[],'media':[]}\n",
        "for data in test_data:\n",
        "  dict_test['id'].append(data['id'])\n",
        "  dict_test['content'].append(data['article_original'])\n",
        "  dict_test['media'].append(data['media'])\n",
        "test_set = pd.DataFrame(dict_test)\n",
        "test_set"
      ]
    },
    {
      "cell_type": "code",
      "execution_count": null,
      "metadata": {
        "colab": {
          "base_uri": "https://localhost:8080/"
        },
        "id": "-ShoIJcuO0_y",
        "outputId": "b090b146-94ca-409b-d66f-f276f87bb9a1"
      },
      "outputs": [
        {
          "data": {
            "text/plain": [
              "{'additional_special_tokens': ['<GSG>'],\n",
              " 'bos_token': '<s>',\n",
              " 'cls_token': '<s>',\n",
              " 'eos_token': '</s>',\n",
              " 'mask_token': '<mask>',\n",
              " 'pad_token': '<pad>',\n",
              " 'sep_token': '</s>',\n",
              " 'unk_token': '<unk>'}"
            ]
          },
          "execution_count": 4,
          "metadata": {},
          "output_type": "execute_result"
        }
      ],
      "source": [
        "tokenizer = AutoTokenizer.from_pretrained(\"hyunwoongko/kobart\")\n",
        "added_token_num = tokenizer.add_special_tokens({\"additional_special_tokens\":[\"<GSG>\"]})\n",
        "tokenizer.special_tokens_map"
      ]
    },
    {
      "cell_type": "code",
      "execution_count": null,
      "metadata": {
        "id": "axQDyTdBO3sv"
      },
      "outputs": [],
      "source": [
        "class TestDataset(torch.utils.data.Dataset):\n",
        "  def __init__(self,df):\n",
        "    self.tokenizer = tokenizer\n",
        "    self.df = df\n",
        "  \n",
        "  def __getitem__(self,idx):\n",
        "    doc = self.df.iloc[idx]\n",
        "    input = ' '.join(doc['content'])\n",
        "    id = doc['id']\n",
        "\n",
        "    input_text = tokenizer.batch_encode_plus([input],padding='max_length',truncation=True, max_length=512, return_tensors=\"pt\")\n",
        "\n",
        "    return {\"id\":id,\n",
        "            \"input_ids\": input_text['input_ids'].flatten(), \n",
        "            \"attention_mask\": input_text['attention_mask'].flatten()\n",
        "            }\n",
        "\n",
        "  def __len__(self):\n",
        "      return self.df.__len__()\n",
        "\n",
        "  def __repr__(self):\n",
        "    return f\"data size : {self.__len__()} \"\n",
        "\n",
        "testdataset = TestDataset(test_set)"
      ]
    },
    {
      "cell_type": "code",
      "execution_count": null,
      "metadata": {
        "colab": {
          "base_uri": "https://localhost:8080/"
        },
        "id": "1c4EKZwkPXe4",
        "outputId": "81733a60-e8ba-47e2-939c-0d1e63f43d54"
      },
      "outputs": [
        {
          "name": "stdout",
          "output_type": "stream",
          "text": [
            "{'id': ['472779091', '472779092', '472779093', '472779094', '472779095', '472779096'], 'input_ids': tensor([[18007, 19014,  9770,  ...,     3,     3,     3],\n",
            "        [10888, 21141, 18751,  ...,     3,     3,     3],\n",
            "        [  248, 11940, 16476,  ...,     3,     3,     3],\n",
            "        [23436, 22915, 14086,  ...,     3,     3,     3],\n",
            "        [29597, 24080, 17297,  ...,     3,     3,     3],\n",
            "        [10746, 16420, 23383,  ...,     3,     3,     3]]), 'attention_mask': tensor([[1, 1, 1,  ..., 0, 0, 0],\n",
            "        [1, 1, 1,  ..., 0, 0, 0],\n",
            "        [1, 1, 1,  ..., 0, 0, 0],\n",
            "        [1, 1, 1,  ..., 0, 0, 0],\n",
            "        [1, 1, 1,  ..., 0, 0, 0],\n",
            "        [1, 1, 1,  ..., 0, 0, 0]])}\n"
          ]
        }
      ],
      "source": [
        "batch_size = 6\n",
        "test_dataloader = DataLoader(testdataset, shuffle=False, batch_size=batch_size)\n",
        "for sample in test_dataloader:\n",
        "  print(sample)\n",
        "  break"
      ]
    },
    {
      "cell_type": "markdown",
      "metadata": {
        "id": "wA9zeM0HPicq"
      },
      "source": [
        "## Load Weights"
      ]
    },
    {
      "cell_type": "code",
      "execution_count": null,
      "metadata": {
        "colab": {
          "base_uri": "https://localhost:8080/",
          "height": 35
        },
        "id": "WE_KMx8WOXJm",
        "outputId": "1cc140b5-a46f-4366-d63b-f7f4eac26c25"
      },
      "outputs": [
        {
          "data": {
            "application/vnd.google.colaboratory.intrinsic+json": {
              "type": "string"
            },
            "text/plain": [
              "'/content/drive/MyDrive/가스에너지문서요약/Weights/KoPEGASUS_Finetuning_1_done_0.00000.pt'"
            ]
          },
          "execution_count": 7,
          "metadata": {},
          "output_type": "execute_result"
        }
      ],
      "source": [
        "\n",
        "pretrained_weight = \"/<your_dir>/KoPEGASUS_Finetuning_1_done_0.00000.pt\"\n",
        "pretrained_weight"
      ]
    },
    {
      "cell_type": "code",
      "execution_count": null,
      "metadata": {
        "colab": {
          "base_uri": "https://localhost:8080/"
        },
        "id": "SEx9uUMuPkIH",
        "outputId": "706d796e-c44d-4cd2-ba28-da7b87073da9"
      },
      "outputs": [
        {
          "data": {
            "text/plain": [
              "<All keys matched successfully>"
            ]
          },
          "execution_count": 8,
          "metadata": {},
          "output_type": "execute_result"
        }
      ],
      "source": [
        "model = BartForConditionalGeneration.from_pretrained(\"hyunwoongko/kobart\",return_dict=True)\n",
        "model.resize_token_embeddings(tokenizer.vocab_size + added_token_num)\n",
        "model.load_state_dict(torch.load(pretrained_weight))  # GPU 사용시"
      ]
    },
    {
      "cell_type": "code",
      "execution_count": null,
      "metadata": {
        "colab": {
          "base_uri": "https://localhost:8080/"
        },
        "id": "n8czHHTYQzBw",
        "outputId": "f3a4aa39-bd9a-421a-ae6c-6dbab8d49644"
      },
      "outputs": [
        {
          "name": "stdout",
          "output_type": "stream",
          "text": [
            "일본 사법당국의 출국금지 명령이 내려져 있던 카를로스 곤(65) 전 르노닛산 회장이 레바논으로 비밀리에 도주했다. 30일(현지시간) 미 일간 월스트리트저널(WSJ)은 소식통을 인용해 곤 전 회장이 이날 레바논 수도 베이루트 공항에 도착했다고 전했다. 곤 전 회장은 보도 이후 미국의 대변인을 통해 자신이 레바논에 머물고 있다는 내용의 성명을 발표했다. 이 때문에 곤 전 회장의 변호인은 물론 수사·출입국 당국까지 당혹스럽다는 반응을 보이는 상황이다. 곤 전 회장은 일본의 ‘정치적 박해’로부터 빠져나왔다고 주장하고 있다. 그는 성명을 통해 “유죄가 전제되고 차별이 만연하고 기본적 인권이 무시되는 잘못된 일본 사법제도의 ‘인질’이 되지 않겠다”고 밝혔다. 곤 전 회장은 르노닛산 회장 시절 회사 공금을 유용했다는 혐의 등으로 일본에서 재판을 받고 있다. 지난해 4월 두 번째 보석 당시 법원에서는 거주제한·출국금지 조치를 포함한 엄격한 감시 명령을 내렸다. 도쿄지방재판소는 도쿄도(東京都) 미나토(港)구 소재 단독 주택으로 곤의 주거지를 제한하고 일본에서 출국하는 것을 금지하는 등의 조건으로 보석을 인정했다. 곤 전 회장의 주거지 현관에 감시 카메라를 설치해 녹화된 내용을 정기적으로 법원에 제출하며, 휴대전화의 경우 인터넷 접속을 할 수 없는 1대만 변호인에게서 받아 사용하고 그 통화 이력도 법원에 제출하도록 하는 조건도 걸려 있었다. 곤 전 회장의 변호인 히로나카 준이치로(弘中惇一郞) 변호사는 “보도된 내용 이상의 것을 알지 못하며 현재 상황에 매우 놀랐다. 앞으로 정보가 들어오면 법원에 제공하겠다”고 반응했다. 그는 “곤 전 회장의 여권은 변호사가 보관하고 있으며 변호인단이 여권을 주는 일은 있을 수 없다”고 설명했다. 교도통신은 일본 출입국재류관리청의 데이터베이스에 곤 전 회장이 출국한 기록이 없는 것으로 확인됐다고 관계자의 설명을 토대로 전했다. 이와 관련해 레바논 치안 당국자는 곤 전 회장으로 보이는 인물이 개인용 제트기를 이용해 베이루트에 도착했다고 NHK에 설명했다. 이 인물의 입국 절차에 관해선 “다른 이름으로 입국했다. 카를로스 곤이라는 이름은 아니었다”고 말했다. 교도통신은 곤 전 회장이 터키에서부터 개인용 제트기를 이용한 것으로 보인다고 프랑스 일간지 레제코를 인용해 전했다. 교도통신에 따르면 레바논 유력 방송사인 MTV가 곤 전 회장이 악기 상자에 숨어 일본 지방공항을 통해 출국했다고 보도하는 등 의외의 경로가 이용됐을 가능성도 제기된다.\n",
            "본선에서 트럼프에 패할 수 있다는 우려 때문이다. 지지율 3위: 엘리자베스 워런 ◈강점◈ 워런은 지난해 하반기 최고 관심 후보였다. 지난해 10월 아이오와주와 뉴햄프셔주에서 여론조사 선두를 달렸다. 몇몇 전국 단위 여론조사에서는 바이든을 누르고 1위에 오르기도 했다. 같은 진보 노선을 걷는 샌더스가 심근경색으로 쓰러져 치료를 받은 영향이 컸다. 지난해 돌풍의 요인은 트럼프의 대척점에 선 정치적 입장과 정치인으로서 신선한 이미지였다. 트럼프식 정치에 지친 유권자들은 워런이 새로운 대안이 될 수 있을지 관심을 갖기 시작했다. 특히 고학력 백인의 지지가 컸다. 아이오와주에서 지지층이 두껍고 지지율도 높다. 여세를 몰아 뉴햄프셔주에서 좋은 성적을 거둔 뒤 '슈퍼 화요일' 경선 주이자 고향인 매사추세츠주에도 깃발을 꽂으면 대선을 향한 길이 활짝 열릴 수 있다. 화제성에서 2위를 달리고 있다. ◈약점◈ 일련의 정책 공약을 발표하면서 지나치게 왼쪽으로 치우쳤다는 평가를 받는다. 전 국민 의료보험 공약은 재원 마련 방법에 대한 비판이 쏟아지자 대통령 임기 3년 차 이전에는 추진하지 않겠다고 한발 물러서야 했다. 이 과정에서 일부 지지층이 부티지지 쪽으로 옮겨갔다는 분석이 있다. 부티지지와 고학력 백인 유권자를 놓고 경쟁하는 구도다. 샌더스와는 급진 좌파 성향 유권자를 놓고 다투고 있다. 지난해 7월 RCP 조사 1위에서 올해 3위로 내려앉았다. 두각을 나타내자 그에 대한 검증이 본격화했기 때문이다. 경쟁자의 공격도 거세졌다. 지지율 4위: 피트 부티지지  ◈강점◈좀처럼 흥행이 안 되는 이번 대선에서 '신선함'을 담당한 후보다. 올해 38세로 혁신적 이미지 구축에 성공했다. 미 중서부 인디애나주의 작은 도시인 사우스밴드 시장에서 일약 민주당 후보 빅4로 발돋움했다. 떠오르는 혜성이다. 언론을 통해 다방면의 깊은 조예와 풍부한 학식을 보여주며 고학력 백인 유권자의 지지를 확보했다. 하버드대와 옥스퍼드대를 졸업한 뒤 맥킨지에서 경영 컨설턴트로 일했다. 정치적 입장과 성향은 중도를 지향한다. 한마디로 '젊고 에너지 넘치는 바이든'이다. 29세에 사우스밴드 시장에 당선돼 33세에 재선됐다. 바이든의 약점인 '고령'은 극복했지만, 강점인 '경험'은 부족한 것으로 평가받는다. 미국 주요 정당 대선 후보 가운데 처음으로 커밍아웃한 후보다.\n",
            "1월 1일 새해 김정은 북한 국무위원장은 모습을 드러내지 않았다. 2012년 집권 이후 처음이다. 신년사 육성 연설은 대외 메시지인 동시에 북한 주민을 향한 연설이다. 대북 제재 하에서 그동안 자신이 약속했던 경제 개발과 대미 협상의 성과가 부진했던 탓이라는 분석이 나오는 이유다. 대신 김 위원장은 나흘 짜리 전원회의를 개최해 엘리트를 단속했다. 북한이 내보냈던 방송 화면 등을 보면 노동당 청사 별관을 가득 메운 최대 1000여명으로 추정되는 북한 파워 엘리트들은 나흘 동안 '받아쓰기'에 열을 올려야 했다. 북한 매체들은 이날 오전 9시부터 신년사를 대신해 4일간의 전원회의를 총정리한 55분짜리 결과(보고)를 내보냈다. 핵심 구호는 김 위원장 스스로 밝힌 대로 \"우리의 전진을 저애(저해)하는 모든 난관을 정면돌파전으로 뚫고 나가자\"였다. 김 위원장은 지난해 신년사에서 '새로운 길'을 꺼낼 수 있다고 언급한 데 이어, 하노이 북·미 2차 정상회담 결렬 후 열린 지난해 4월 최고인민회의에서 '연말시한'을 정하기도 했다. 하지만 이날 전원회의 결과는 '과거의 길'이었다. 미국의 대북 적대시 정책에 굴복하지 않겠다는 것과 대북 제재로 어려워진 경제 여건을 자력갱생을 통해 정면 돌파하겠다는 것이다. '정면 돌파'라는 표현은 모두 22차례나 사용했다. 경제 개발 부진의 책임을 물은 듯 당 부장의 절반 이상을 교체하는 등 대규모 인사도 단행했다. 전문가들 사이에선 김 위원장이 '핵·경제 병진 노선'으로 회귀했다거나, 김정일 시대로 돌아간 것 아니냐는 평가가 나오고 있다. 결과 보고에서 김 위원장은 \"세상은 머지않아 새로운 전략무기를 목격하게 될 것\"이라고 주장했다. \"파렴치한 미국이 조·미(북·미) 대화를 불순한 목적 실현에 악용하는 것을 절대로 허용하지 않을 것\"이라며 \"인민이 당한 고통과 억제된 발전의 대가를 깨끗이 다 받아내기 위한 충격적인 실제 행동에 나설 것\"이라고 강조하면서다. 김 위원장의 이날 발언 중 가장 강한 표현이었다. 하지만 거기까지였다. \"핵 군축과 전파 방지를 위한 노력에 찬물을 끼얹었다\"고 말했지만, 명시적으로 핵실험과 미사일 시험발사 중단(모라토리엄)을 선언하진 않았다. 나아가 \"우리의 억제력 강화의 폭과 심도는 미국의 금후 대조선 입장에 따라 상향 조정될 것\"이라고 언급, 향후 미국과의 협상 여지를 열어놓았다. 기다렸다는 듯이 도널드 트럼프 미국 대통령은 지난달 31일 \"김 위원장은 약속을 지킬 것\"이라며 부드러운 반응을 내놓았다.\n",
            "국내 이동통신 3사(KT·SK텔레콤·LG유플러스)는 산토끼(신규 고객)를 잡느라 집토끼(장기 가입자)를 위한 서비스에 인색하다는 지적을 받아왔다. 장기 가입자는 호갱(호구+고객의 줄임말)’이라는 말이 나돌 정도다. 하지만 이동통신사들은 “회사 차원에서 장기 가입자는 VIP이며, 이들을 위한 혜택을 점차 늘리고 있다”고 반박한다. 장기 가입자를 위한 이통 3사의 서비스를 비교해봤다. 무료 데이터 쿠폰, LG유플러스〉SK텔레콤〉KT통신업계에 따르면 이통사의 장기가입자로 분류되는 기준은 '가입 기간 2년 이상'이다. 이통사는 이때부터 장기 가입자용 서비스를 제공한다. 가장 일반적인 서비스는 무료 데이터 쿠폰’이다. 소비자가 가입한 요금제에서 기본으로 받는 데이터 용량만큼 더 쓸 수 있도록 쿠폰을 추가로 발급해준다. 이통 3사 가운데 무료 데이터 쿠폰을 가장 많이 주는 곳은 LG유플러스다. 2년 이상 가입자에게 데이터 쿠폰 5장을 준다. 이 경우 소비자는 자신의 요금제에 포함된 데이터를 다 쓴 뒤, 쿠폰으로 5배까지 더 쓸 수 있다. 3년 가입자 6장, 4년 이상일 때는 7장을 지급한다. SK텔레콤은 2년 이상 가입자에게 데이터 쿠폰 4장, 3년 이상이면 5장, 4년이 넘으면 6장을 준다. KT는 2년 이상 가입자에게 데이터 쿠폰 4장, 4년 이상이면 6장 제공한다. KT 관계자는 \"타사는 소비자가 가입한 요금제에 맞춰 데이터를 제공하는 반면, KT는 요금제 관계없이 쿠폰 한 장당 2GB씩 제공한다\"면서 \"쿠폰 수는 적지만 저가 요금제 쓰는 소비자에게는 오히려 더 많은 데이터를 제공한 것\"이라고 설명했다. 가족결합할인, LG유플러스의 할인 폭 가장 커 ‘가족결합 할인 제도’도 장기 가입자를 위한 대표적 서비스다. 가족 간 이동전화 가입 기간을 합산해 요금을 할인해주는 제도다. LG유플러스의 'U+가족무한사랑' 요금제를 사용하면 가족 구성원 2~4명이 한꺼번에 요금 할인을 받을 수 있다. 같은 명의로 휴대전화 번호가 2개 개설돼 있어도 가족결합으로 할인받을 수 있고, 일시 정지 중인 번호도 결합할 수 있다. 번호를 결합한 가족 구성원끼리 LG유플러스를 사용한 기간을 합산해 15년이 넘으면 가구당 1만1000원, 30년 이상이면 2만2000원을 할인해준다. 이에 더해 구성원별로 최대 5500원씩 요금할인을 추가로 받을 수 있다. 가족 4명이 합산한 가입 기간이 30년이 넘는 경우, 매월 4만4000원의 통신비를 줄일 수 있는 셈이다.\n"
          ]
        }
      ],
      "source": [
        "# 기사 원문\n",
        "for i in range(4):\n",
        "  print(' '.join(test_set.iloc[i]['content']))"
      ]
    },
    {
      "cell_type": "code",
      "execution_count": null,
      "metadata": {
        "colab": {
          "base_uri": "https://localhost:8080/"
        },
        "id": "QnADNwMHP_1o",
        "outputId": "e1bb017c-c489-41bc-b8e9-09af313f9191"
      },
      "outputs": [
        {
          "data": {
            "text/plain": [
              "['일본 사법당국의 출국금지 명령이 내려져 있던 카를로스 곤(65) 전 르노닛산 회장이 레바논으로 비밀리에 도주한</s>일(현지시간) 미 일간 월스트리트저널(WSJ)은 소식통을 인용해 곤 전 회장이 이날 레바논 수도 베이루트 공항에 도착했다고 전하며</s> 전 회장은 보도 이후 미국의 대변인을 통해 자신이 레바논에 머물고 있다는 내용의 성명을 발표했다.</s> 때문에 곤 전 회장의 변호인은 물론 수사·출입국 당국까지 당혹스럽다는 반응을 보이고 상황이다.</s> 전 회장은 일본의 ‘정치적 박해’로부터 빠져나왔다고 주장하고 있다.</s> “ 통해 유유죄가 전제되고 차별이 만연하고 기본적 인권이 무시되는 잘못된 일본 사법제도의 인인질’이 되지 않겠다”고 밝혔다.</s> 전 회장이 일본닛산 회장 시절 회사 공금을 유용했다는 혐의 등으로 일본에서 재판을 받고 있다.</s> 4월 두 번째 보석 당시 법원에서는 거주제한·출국금지 조치를 포함한 엄격한 감시 명령을 내렸다.</s>지방재판소는 도쿄도 미東京都) 미나토(港)구 소재 단독 주택으로 곤의 주거지를 제한하고 일본에서 출국하는 것을 금지하는 조건으로 조건으로 보석을 인정했다.</s> 전 회장이 여지를 현관에 감시 카메라를 설치해 녹화된 내용을 정기적으로 법원에 제출하며 휴대전화의 경우 인터넷 접속을 할 수 없는 1대만 변호인에게서 받아 사용하고 그 통화 이력도 법원에 제출하도록 하는 조건도 걸려 있다.</s> 전 회장은 변호인단은나카 준이치로 변호사는弘<pad>惇一郞) 변호사는 곤개인된 내용 이상의 것을 알지 못하며 현재 현재 매우 놀랐다”고</s> 정보 들어오면 법원에 제공하겠다”고 말했다.했다.</s> 교도곤 전 회장이 여권은 변호사가 보관하고 있다”고 변호인단이 여권을 주는 일은 없을 수 없다”고 말했다.했다.</s>통신은</s> 출입국재류관리청 데이터베이스를 곤 전 회장이 출국했다고 것으로 없는 것으로 확인됐다고 보도자의 설명을 토대로 전했다.</s> 관련해 교도바논 치안 당국자는 밝혔 전 회장이장으로 보이는 인물이 개인용 제트기를 이용해 출국루트 도착했다고 보도K는 말했다.했다.</s>며은 경우 절차에 관해</s> \"카 이름으로 입국한</s>를로스 곤”이라고 이름은 아니었다”고 말했다.</s>통신은  전 회장이 레에서 개인용 제트기를 이용한 것으로 보인다고 말했다. 일간지</s>제코를 인용해 전했다.</s>통신은의 따르면</s>바논의 방송사인 MTV가 곤 전 회장이 악기 상자에 숨어 일본 지방을을 통해 출국했다고 보도하는 등 의외의 경로를 이용됐을 가능성도 있다.다.</s><pad><pad><pad><pad><pad><pad><pad><pad><pad><pad><pad><pad><pad><pad><pad><pad><pad><pad><pad><pad>',\n",
              " \"트선에서 트럼프에 패할 수 있다는 우려로</s> 3위: 엘리자베스 워런  엘리강점: 런은 지난해 10월 최고 관심 후보였</s> 10월 아이오와주와 뉴햄프셔주에서 여론조사 선두를 달렸</s> 전국 단위 여론조사에서는 바이든을 누르고 1위에 오르기도 했다.</s> 진보 노선을 걷는 샌더스가 심근경색으로 쓰러져 치료를 받은 영향이 컸다.</s> 돌풍의 요인은 트럼프의 대척점에 선 정치적 입장과 정치인으로서 신선한 이미지였다.</s>식 정치에 지친 유권자들은 트럼프런이 새로운 대안이 될 수 있을지 관심을 갖기 시작했다.</s> 고학력 백인의 지지가 컸다.</s>오와주에서 지지층이 두껍고 지지율도 높다.</s>세를 몰아 뉴햄프셔주에서 좋은 성적을 거둔 뒤 '슈퍼 화요일' 경선 주이자 매인 매사추세츠주에도 깃발을 꽂으면 대선 향한 길이 열릴 열릴 수 있다.</s>성</s> 2위를 달리고 있다.</s></s>강점◈이 정책 공약을 발표하면서 지나치게 왼쪽으로 치우쳤다는 평가를 받는 샌</s> 국민 의료보험 공약은 재원 마련 방법에 대한 비판이 쏟아지자 대통령 임기 3년 차 이전에는 추진하지 않겠다고 한발 물러섰 했던</s> 과정에서 일부 지지층이 부티지지 쪽으로 옮겨갔다는 분석이 있다.</s>티지지와 고학력 백인 유권자의 놓고 경쟁하는 구도다.</s>더스와 고 고진 좌파 성향 유권자의 놓고 다투고 있는</s> 7월 RCP 조사 1위에서 3 3위로 내려앉은</s>각을 나타낸자 고 대한 검증이 본격화되며 때문이다.</s>자의 공격은 거세지고</s> 4위: 피트 부티지지</s></s></s>강점:캐처럼 흥행이 안 되는 이번 대선 '신선함'을 담당한 후보</s></s> 38세 혁신적 이미지 구축에 성공한했지만</s> 중서부 인디애나주의 작은 도시인 사우스밴드 시장은 일약 민주당 후보 빅4로 발돋움한</s>르는 후보성 있다.</s>인 통해 고방면의 조 조예와 고 학식 보여주며 고학력 백인 후보자의 지지를 얻했다.</s>버드대<pad>스퍼드대 졸업한  킨지 경영 컨설턴트로 일약</s> 입장과<pad>은 도로 보여준하는</s><pad>젊고 에너지 넘치는 바이든'은</s></s>세<pad>우스<pad><pad> 당선돼<pad>세 사선된다.</s>든은 약점인 '고령'은<pad>했지만,<pad>점인<pad><pad>'은<pad> 것으로 보이지받는 트럼프</s><pad> 정당 대선 후보</s><pad><pad>밍아웃한 후보</s><pad><pad><pad><pad><pad><pad><pad><pad>\",\n",
              " '북한월 1일 새해 김정은 북한 국무위원장은 대외 드러내지 않고</s> 집권 이후 처음이다.</s>사 육성 연설은 대외 메시지인 동시에 북한 주민을 향한 연설로</s> 제재 하에서 그동안 자신이 약속했던 경제 개발과 대미 협상의 성과가 부진했던 탓이라는 분석이 나오는 이유다.</s> 김 위원장은 나흘 짜리 전원회의를 개최해 엘리트를 단속했다.</s> 내보냈던 방송 화면 등을 보면 노동당 청사 별관을 가득 메운 최대 1000여명으로 추정되는 북한 파워 엘리트들은 나흘 동안 \\'받아쓰기\\'에 열을 올야 했다.</s> 매체들은 이날 오전 9시부터 신년사를 대신해 4일간의 전원회의를 총정리한 55분짜리 결과(보고)를 내보냈다.</s> 구호는 \\'우 위원장 스스로 밝힌 대로 \"우리의 전진을 저해하는저해)하는 모든 난관을 정면돌파전으로 뚫고 나가자\"는였다.</s> 위원장은 \" 신년사에서 \\'새로운 길\\'을 꺼낼 수 있다고 언급한 데 이어, 노이 북·미 2차 정상회담 결렬 후 열린 지난해 4월 최고인민회의에서 \\'연말시한\\'을 정하기도 했다.</s> 김 오전회의 결과 \\'과거의 길\\'이었다.</s> 대북 적대시 정책에 굴복하지 않겠다는 것과 대북 제재로 어려워진 경제 여건을 자력갱생을 통해 정면 돌파하겠다는 것이다.</s>면 돌파\\'라는 표현은 모두 22차례나 사용했다.</s>개발 부진의 책임을 물은 듯 김정은 부장의 절반 이상을 교체한 등 대규모 인사도 단행했다.</s>들 사이에선 김 위원장은 핵핵·경제 병진 노선\\'으로 회귀했다거나, 김정일 시대로 돌아간 것 아니냐는 평가가 나오고 있다.</s> 보고에서 김 위원장은 \"세상은 머지않아 새로운 전략무기를 목격하게 될 것\"이라고 말했다.했다.</s>세렴치한 미국이 조·미(<pad>·미)</s> 허락순한 것을에을 대한하지 것을 허용 허용하지 않을 것\"이라며 트럼프민은 약속을 것을과 억제된 것을의 대가를 다이 다 받아내기 위한 것적인 실제 행동에 나설 것\"이라며 말했다.하면서 트럼프</s> 위원장은 약속을 트럼프 중 가장 강한 표현으로</s> 트럼프까지<pad></s><pad>군축을<pad><pad><pad> 위한 김정은은 대한물을 끼얹었다\"고 말했지만,<pad>적으로 핵실험을 김정은 시험발사 중단(<pad>라토리엄) 선언한하진 않았다.</s><pad>리의 김정은력 강화에 폭과 심도는 미국의<pad>후 대조선의 따라 트럼프 조정될 것\"이라며 말했다.하는</s><pad> 대통령은 협상 여지를 열어놓은<pad></s>렸다는 듯이<pad>널드 트럼프 미국 대통령은 지난달<pad><pad><pad><pad> 지킬 것\"이라며<pad><pad> 보였<pad></s><pad><pad><pad><pad><pad><pad><pad><pad><pad><pad><pad><pad><pad><pad><pad><pad><pad><pad><pad><pad><pad><pad><pad><pad><pad><pad><pad>',\n",
              " '국내 이동통신 3사(KT·SK텔레콤·LG유플러스)는 산토끼(신규 고객)를 잡느라 집토끼(장기 가입자)를 위한 서비스에 인색하다는 지적을 받아왔지만</s> 가입자는 V갱(호구+고객의 줄임말)이라는 말이 나돌 정도지만</s> 이동통신사들은 장기회사 차원에서 장기 가입자는 VIP이며, 이들을 위한 혜택을 점차 늘리고 있다”고 반박한다.</s> 가입자를 위한 이통 3사의 서비스를 비교해봤다.</s> 데이터 쿠폰, LG유플러스〉SK텔레콤〉KT통신업계에 따르면 이통사의 장기가입자로 분류되는 기준은 \\'가입 기간 2년 이상\\'이며,</s>사는 이때부터 장기 가입자용 서비스를 제공한다.</s> 일반적인 서비스는 무료 데이터 쿠폰이다.이며</s> 가입한 요금제에에서 기본으로 받는 데이터 용량만큼 더 쓸 수 있도록 쿠폰을 추가로 발급해주는다.</s> 3사 중 무료 데이터 쿠폰을 가장 많이 주는 곳은 LG유플러스다.</s> 이상 가입한 데이터 쿠폰 5장을 준다.</s> 경우 매월자는 자신의 요금제에 포함된 데이터를 다 쓴 뒤, 쿠폰으로 5배까지 더 쓸 수 있다.</s> 이상 6장, 4년 이상 가입 때는 7장을 준한다.</s>은 장기 이상 가입자가 데이터 쿠폰을 4장, 3년 이상 가입 요금장, 4년 이상 넘으면 6장을 준다.</s> 장기 이상 가입 기간이 데이터 쿠폰 4장, 3년 이상이면 5장을 제공한다.</s> 관계자는 \"장기사 요금 가입한 요금제 따라 요금 제공하는 요금 LG유 요금제 관계없이 쿠폰 한 장당 2GB씩 제공다\"라고 \"가족폰 한 적지만 쿠 요금제 쓰는 소비자에게는 오히려 더 많은 쿠 제공한 것\"이라고 설명했다.</s>결합 할인인</s>플러스의 쿠 폭 가장 커 \\'가족결합 할인 제도’를 장기 가입자가 위한 대표적 서비스인</s> 3명이 이동전화 가입 기간이 30년산한 매월금을 할인해준 것으로다.</s><pad>스의 경우<pad>+가족무한사랑\\'</s>제 사용하면 매월결원끼리~4명이 이용하는 요금 할인을 받을 수 있다.</s><pad><pad> 번호가 2개 개설돼 있어도 가족결합할 통신받을 수 있다.<pad> 정지 중인 번호도 있다.할인 있다.</s>호가 결합한 가족결원끼리 LG유플러스의 이용하는 기간 합산해 가족년이 넘으면 가구당 1만1000원,<pad> 이상이면 2만2000원, 받을받을다.</s> 대해<pad>원별로 통신<pad>00원씩 요금할인을 받을 받을 수 있다.</s>결 합산한 것으로 기간이 30년이 넘는 경우, 매월 4만4000<pad> 통신비를 줄일 수 있다. 것으로이다.</s><pad><pad><pad><pad><pad><pad><pad><pad><pad><pad><pad><pad><pad><pad><pad><pad><pad><pad><pad><pad><pad><pad><pad><pad><pad><pad>',\n",
              " '닛 곤 곤 전6)닛산자동차 전 회장의 ‘보석기간 중 탈출극’으로 인해 일본내 충격이 확산되고 있는</s> 4월 해외 출국 금지 등을 조건으로 보석을 허가 받은 곤 전 회장은 지난달 31일 “난 레바논에 있다”는 성명을 발표했다.</s>바논 TV 곤 전 회장 가족들의 출신지로, 곤 전 회장 역시 유년기를 그 곳에서 보냈다.</s> 언론들에 따르면 보석을 신청했던 변호사측은 \"아닌 밤중에 홍두깨다”고 전혀 몰랐다”고 황당해했다.</s>석을 허가한 법원 역시  “쇼크”라며 망연자실한 분위기다.</s>케이 신문은 \"자가거인멸과 도주 가능성을 이유로 보석에 강하게 반대했던 도쿄지검 특수부에선 ‘언젠가는 도망갈 줄 알았다’는 얘기가 나온다”고 전했다.</s> 검찰 간부는 이 신문 보도를 “취의 형사사법 제도의 부끄러움을 전세계에 알린 법원과 변호인단은 책임이 무겁다”고 비판측을 강하게 비판했다.</s> 가운데  전 회장의 일본 탈출의 구체적인 경위와 관련된 보도가 잇따르고 있다.</s> 언론들은 따르면 일본바논의 주요 미디어인 MTV는 “곤 전 회장이 악기 상자에 숨어 출국했을 보도했다.</s>경비회사나 민군대에 준하는 민병조직’ 관계자들이 크리스마스 만찬음악회의 밴드로 가장해 곤 전 회장을 도쿄 거처에 들어갔고,연주를 끝낸 뒤 곤 전 회장을 악기 상자에 숨겨 출국다는 보도</s>케이 신문은 “곤재원을 밝히지 않고 때문에 보도의 신뢰성은 명확하지 않다\"고 전</s> 전 회장이 레용 비행기의편으로 지난달 29일 오사카 간사이 국제공항을 출발해 터키를 거쳐 지난달 30일(현지시간)레바논을 도착했을 가능성이 크다고 한다.</s>관련</s></s>히 신문은 밝혔 국토교통성은 인용해 터용 비행기의 사용 경우 C 여객과 C CIQ 검사를세관·출입국관리·검역)를 받을 필요가 있어 CIQ 검사를 받지 않고 출국했을 가능성이 100% 불가능하다”고 전</s></s>선 화물 검사에 대해선 “터용 비행기의 경우 화돼 있지 않은<pad>장 등의 판단으로 기략. 경우도 있다”고 전했다.</s>바논 TV는 아사히신문</s> 종합<pad></s> 전 회장이<pad>있었던 악기 박스가 오사카 공항에서 화물 검사를 받지 않고<pad>용 비행기에 실렸을 가능성이 크</s> 언론들은</s><pad> 계획을 주도한 인물로 곤 전 회장의 부인 캐럴이 지목하고 있다.</s> 르몽드는 “터키와 양호한 관계를 가진 터키들과 함께<pad><pad>이 탈출을 한했을 가능성이 크다”고 전했다.</s><pad><pad><pad><pad><pad><pad><pad><pad><pad><pad><pad><pad><pad><pad><pad><pad>',\n",
              " \"미국이 일본에 '유인 달 탐사 프로젝트를 함께 하자’고 정식 제안해</s> 9월 일본을 방문한 짐 브라이든스틴 미 항공우주국(NASA) 국장이 일본 정부에 이런 제안을 했다고 마이니치신문이 1일수의 관계자를 인용해 1일 보도했다.</s>우주 굴기(<pad>起)'를 내세우며 세계 최초로 달의 뒷면에 탐사선을 보내는 등 빠른 속도로 우주개발을 확대하고 있는 중국을 견제하기 위해서다.</s> 우주비행사가 달에 발을 내딛는 것은 2025년 이후가 될 전망이다.</s> 성사되면 일본은 미국에 이어 두 번째로 달에 인간을 보낸 국가가 된다.</s> 202르로 계획’에(1961~72년)에 따라 12명의 우주비행사를 달에 보냈지만</s> 미국이 국가도 유인 달 탐사와 나서지 못했다.</s>우주 굴권’을 주창하는 도널드 트럼프 행정부는 지난 5월 ‘다시 유인 달 탐사를 시작하겠다’고 발표했다.</s> '아르테미스 계획'이 일본</s> 정부는 적극적이다.</s>니치 따르면 지난해 5월 아베 총리가 총리가安倍晋三) 총리가 일본을 국빈 방문한 트럼프 대통령에게 아르테미스 계획 동참을 검토하겠다고 먼저 제안했다는 것으로</s> 우주 24일 방일한 브라이든스틴 NASA 국장이 아베 정부의 우주정책위원장인 가사이 요시유키(葛西敬之) JR도카이 명예회장 등을 비공식 면담하는 자리에서 “미·일 양국의 우주비행사가 달에면(月面)에 함께 서는 것을 염두에 두고 전일측이) 전향적인 검토를 했으면 좋겠다”고 말한 것으로 전해졌다.다.</s> 따르면 우주 미국에4년 남·녀 우주비행 2 시작으로 매년 유인 달사 전개할 예정이다.</s>테미스 계획에는 달 달기지륙 외에도 달기지 건설과 달게이트웨이(Gateway)''를 불리는 달궤도 우주정거장 건설까지 포함 있다.</s>이트웨이이는 화성 그대로 화성 탐사 등 더 깊은 우주로 떠나는 중간기지 역할도 하게 된다.다.</s></s>문학적인 비용이 들게 없다.</s></s> 미국이 달에 탐사와 우주비행사를선 프로젝트를 포기은 미국 이유다.</s> 따르면콜을 보내는 미국 이유 보인</s>된다.</s></s></s> 9월 일본을 짐이트웨이 기술·<pad> 제공을 대한 예산만 2024년까지 2130억 엔을 2조2680억원),다. 것으로 예상하고 있다.</s></s> 일본의 우주우주탐사 관련 예산은간 350억 원<pad>억 원<pad> 계획에배가 넘는다.</s>비행사를 달에 보내는<pad> 고려하면<pad>은</s>덩이처럼<pad>날 수 있다.</s><pad><pad><pad><pad><pad><pad><pad><pad><pad><pad><pad><pad><pad>\"]"
            ]
          },
          "execution_count": 10,
          "metadata": {},
          "output_type": "execute_result"
        }
      ],
      "source": [
        "# forwarding 결과\n",
        "output = model.forward(sample['input_ids'])\n",
        "tokenizer.batch_decode(output.logits.argmax(2))"
      ]
    },
    {
      "cell_type": "code",
      "execution_count": null,
      "metadata": {
        "colab": {
          "base_uri": "https://localhost:8080/"
        },
        "id": "hvxeV55gT6wH",
        "outputId": "846d7e7b-03a0-4650-a4af-6e744f392ff7"
      },
      "outputs": [
        {
          "data": {
            "text/plain": [
              "tensor([[    2, 18007, 19014,  9770, 15119, 22603, 21645, 19899, 12034, 15199,\n",
              "         12159, 15412, 14471, 10443, 24080, 17297, 16680, 21110, 14038,     2],\n",
              "        [    2, 13328, 18067, 11466, 14499, 11786, 29195, 19966, 15569, 18751,\n",
              "         11466, 14499, 11786, 29195, 19966, 16993, 14700, 14029, 16789,     2],\n",
              "        [    2, 17738, 21952, 14167, 27342, 14318, 15410, 13607, 16667, 16258,\n",
              "         20798, 18809, 14281, 12141, 16644, 19479, 10952, 18765, 14494,     2],\n",
              "        [    2, 23436, 22915, 14086, 11207, 18497,   283,   373, 24514, 18950,\n",
              "           373, 25130, 11986, 20769, 14831, 14306, 13230,  9482,   239,     2],\n",
              "        [    2, 29597, 24080, 17297, 14038, 18612, 14046, 11265, 15679, 14059,\n",
              "         20975,  9230, 12007, 21604, 14591, 14399, 15194, 14167, 17297,     2],\n",
              "        [    2, 18007, 12034, 22246, 14311, 14196, 24175, 26787, 27834, 18335,\n",
              "         22980, 14466, 14718, 15479, 14599, 14225, 14287, 16788, 23444,     2]])"
            ]
          },
          "execution_count": 11,
          "metadata": {},
          "output_type": "execute_result"
        }
      ],
      "source": [
        "# default generation\n",
        "model.generate(sample['input_ids'])"
      ]
    },
    {
      "cell_type": "code",
      "execution_count": null,
      "metadata": {
        "colab": {
          "base_uri": "https://localhost:8080/"
        },
        "id": "jp13O5tYPqoR",
        "outputId": "dcce8562-3d54-43e1-d6ac-f825efc4e42c"
      },
      "outputs": [
        {
          "data": {
            "text/plain": [
              "['일본 사법당국의 출국금지 명령이 내려져 있던 카를로스 곤(65) 전 르노닛산 회장이 30일 레바논 수도 베이루트 공항에 도착했다고 미 일간 월스트리트저널(WSJ)은 보도 이후 미국의 대변인을 통해 자신이 레바논에 머물고 있다는 내용의 성명을 발표해 곤 전 회장의 변호인은 물론 수사·출입국 당국까지 당혹스럽다는 반응을 보이고 있다.',\n",
              " '트럼프의 대척점에 선 정치적 입장과 정치인으로서 신선한 이미지를 가진 엘리자베스 워런은 지난해 하반기 최고 관심 후보였다.',\n",
              " '1월 1일 새해 김정은 북한 국무위원장은 대외 메시지인 동시에 북한 주민을 향한 연설인 신년사 육성연설에서 그동안 자신이 약속했던 경제 개발과 대미 협상의 성과가 부진했던 탓이라는 분석이 나오는 가운데, 김 위원장은 나흘 짜리 전원회의를 개최해 엘리트를 단속했다.',\n",
              " '국내 이동통신 3사(KT·SK텔레콤·LG유플러스)는 산토끼(신규 고객)를 잡느라 집토끼(장기 가입자)를 위한 서비스에 인색하다는 지적을 받아왔지만 이동통신사들은 “회사 차원에서 장기 가입자는 VIP이며, 이들을 위한 혜택을 점차 늘리고 있다”고 반박하며 장기 가입자를 위한 이통 3사의 서비스를 비교해봤다.',\n",
              " '카를로스 곤(66)닛산자동차 전 회장의 ‘보석기간 중 탈출극’으로 인한 일본내 충격이 확산되고 있는 가운데 일본 언론들에 따르면 보석을 신청했던 변호사측은 “아닌 밤중에 홍두깨를 전혀 몰랐다”고 황당해 하고 있다.',\n",
              " \"지난해 9월 일본을 방문한 짐 브라이든스틴 미 항공우주국(NASA) 국장이 일본 정부에 '우주 굴기'를 내세우며 세계 최초로 달의 뒷면에 탐사선을 보내는 등 빠른 속도로 우주개발을 확대하고 있는 중국을 견제하기 위해 '우주 굴기'를 내세우며 세계 최초로 달의 뒷면에 탐사선을 보내는 등 빠른 속도로 우주개발을 확대하고 있는 중국을 견제하기 위해 일본에 '유인 달 탐사 프로젝트를 함께 하자'고 정식 제안했다고 마이니치신문이 1일 보도했다.\"]"
            ]
          },
          "execution_count": 12,
          "metadata": {},
          "output_type": "execute_result"
        }
      ],
      "source": [
        "# beam search 결과\n",
        "tokenizer.batch_decode(model.generate(sample['input_ids'], num_beams=4, max_length=512, early_stopping=False),skip_special_tokens=True, clean_up_tokenization_spaces=False)"
      ]
    },
    {
      "cell_type": "code",
      "execution_count": null,
      "metadata": {
        "colab": {
          "base_uri": "https://localhost:8080/"
        },
        "id": "E9dMdf5EbuYB",
        "outputId": "81701d3e-57a1-49ca-d11a-2a64777b8ee6"
      },
      "outputs": [
        {
          "data": {
            "text/plain": [
              "['일본 사법당국의 출국금지 명령이 내려져 있던 카를로스 곤(65) 전 르노닛산 회장이 30일 레바논 수도 베이루트 공항에 도착했다고 미 일간 월스트리트저널(WSJ)은 보도 이후 미국의 대변인을 통해 자신이 레바논에 머물고 있다는 내용의 성명을 발표해 곤 전 회장의 변호인은 물론 수사·출입국 당국까지 당혹스럽다는 반응을 보이고 있다.',\n",
              " '트럼프의 대척점에 선 정치적 입장과 정치인으로서 신선한 이미지를 가진 엘리자베스 워런은 지난해 하반기 최고 관심 후보였다.',\n",
              " '1월 1일 새해 김정은 북한 국무위원장은 대외 메시지인 동시에 북한 주민을 향한 연설인 신년사 육성연설에서 그동안 자신이 약속했던 경제 개발과 대미 협상의 성과가 부진했던 탓이라는 분석이 나오는 가운데, 김 위원장은 나흘 짜리 전원회의를 개최해 엘리트를 단속했다.',\n",
              " '국내 이동통신 3사(KT·SK텔레콤·LG유플러스)는 산토끼(신규 고객)를 잡느라 집토끼(장기 가입자)를 위한 서비스에 인색하다는 지적을 받아왔지만 이동통신사들은 “회사 차원에서 장기 가입자는 VIP이며, 이들을 위한 혜택을 점차 늘리고 있다”고 반박하며 장기 가입자를 위한 이통 3사의 서비스를 비교해봤다.',\n",
              " '카를로스 곤(66)닛산자동차 전 회장의 ‘보석기간 중 탈출극’으로 인한 일본내 충격이 확산되고 있는 가운데 일본 언론들에 따르면 보석을 신청했던 변호사측은 “아닌 밤중에 홍두깨를 전혀 몰랐다”고 황당해 하고 있다.',\n",
              " \"지난해 9월 일본을 방문한 짐 브라이든스틴 미 항공우주국(NASA) 국장이 일본 정부에 '우주 굴기'를 내세우며 세계 최초로 달의 뒷면에 탐사선을 보내는 등 빠른 속도로 우주개발을 확대하고 있는 중국을 견제하기 위해 '우주 굴기'를 내세우며 세계 최초로 달의 뒷면에 탐사선을 보내는 등 빠른 속도로 우주개발을 확대하고 있는 중국을 견제하기 위해 일본에 '유인 달 탐사 프로젝트를 함께 하자'고 정식 제안했다고 마이니치신문이 1일 보도했다.\"]"
            ]
          },
          "execution_count": 13,
          "metadata": {},
          "output_type": "execute_result"
        }
      ],
      "source": [
        "# beam search 결과\n",
        "tokenizer.batch_decode(model.generate(sample['input_ids'], num_beams=4, max_length=512, early_stopping=False),skip_special_tokens=True, clean_up_tokenization_spaces=False)"
      ]
    },
    {
      "cell_type": "markdown",
      "metadata": {
        "id": "eXtQzzt1Scv4"
      },
      "source": [
        "### pipeline"
      ]
    },
    {
      "cell_type": "code",
      "execution_count": null,
      "metadata": {
        "colab": {
          "base_uri": "https://localhost:8080/",
          "height": 424
        },
        "id": "5hRpcXpCS0Jk",
        "outputId": "646f8eef-0bcd-4924-9b29-9fba2be7108f"
      },
      "outputs": [
        {
          "data": {
            "text/html": [
              "<div>\n",
              "<style scoped>\n",
              "    .dataframe tbody tr th:only-of-type {\n",
              "        vertical-align: middle;\n",
              "    }\n",
              "\n",
              "    .dataframe tbody tr th {\n",
              "        vertical-align: top;\n",
              "    }\n",
              "\n",
              "    .dataframe thead th {\n",
              "        text-align: right;\n",
              "    }\n",
              "</style>\n",
              "<table border=\"1\" class=\"dataframe\">\n",
              "  <thead>\n",
              "    <tr style=\"text-align: right;\">\n",
              "      <th></th>\n",
              "      <th>id</th>\n",
              "      <th>summary</th>\n",
              "    </tr>\n",
              "  </thead>\n",
              "  <tbody>\n",
              "    <tr>\n",
              "      <th>0</th>\n",
              "      <td>472779091</td>\n",
              "      <td>요약문</td>\n",
              "    </tr>\n",
              "    <tr>\n",
              "      <th>1</th>\n",
              "      <td>472779092</td>\n",
              "      <td>요약문</td>\n",
              "    </tr>\n",
              "    <tr>\n",
              "      <th>2</th>\n",
              "      <td>472779093</td>\n",
              "      <td>요약문</td>\n",
              "    </tr>\n",
              "    <tr>\n",
              "      <th>3</th>\n",
              "      <td>472779094</td>\n",
              "      <td>요약문</td>\n",
              "    </tr>\n",
              "    <tr>\n",
              "      <th>4</th>\n",
              "      <td>472779095</td>\n",
              "      <td>요약문</td>\n",
              "    </tr>\n",
              "    <tr>\n",
              "      <th>...</th>\n",
              "      <td>...</td>\n",
              "      <td>...</td>\n",
              "    </tr>\n",
              "    <tr>\n",
              "      <th>6591</th>\n",
              "      <td>472785682</td>\n",
              "      <td>요약문</td>\n",
              "    </tr>\n",
              "    <tr>\n",
              "      <th>6592</th>\n",
              "      <td>472785683</td>\n",
              "      <td>요약문</td>\n",
              "    </tr>\n",
              "    <tr>\n",
              "      <th>6593</th>\n",
              "      <td>472785684</td>\n",
              "      <td>요약문</td>\n",
              "    </tr>\n",
              "    <tr>\n",
              "      <th>6594</th>\n",
              "      <td>472785685</td>\n",
              "      <td>요약문</td>\n",
              "    </tr>\n",
              "    <tr>\n",
              "      <th>6595</th>\n",
              "      <td>472785686</td>\n",
              "      <td>요약문</td>\n",
              "    </tr>\n",
              "  </tbody>\n",
              "</table>\n",
              "<p>6596 rows × 2 columns</p>\n",
              "</div>"
            ],
            "text/plain": [
              "             id summary\n",
              "0     472779091     요약문\n",
              "1     472779092     요약문\n",
              "2     472779093     요약문\n",
              "3     472779094     요약문\n",
              "4     472779095     요약문\n",
              "...         ...     ...\n",
              "6591  472785682     요약문\n",
              "6592  472785683     요약문\n",
              "6593  472785684     요약문\n",
              "6594  472785685     요약문\n",
              "6595  472785686     요약문\n",
              "\n",
              "[6596 rows x 2 columns]"
            ]
          },
          "execution_count": 14,
          "metadata": {},
          "output_type": "execute_result"
        }
      ],
      "source": [
        "submission = pd.read_csv('/<your_dir>/new_sample_submission.csv')\n",
        "submission"
      ]
    },
    {
      "cell_type": "code",
      "execution_count": null,
      "metadata": {
        "id": "q7zhJoytSQVI"
      },
      "outputs": [],
      "source": [
        "device = torch.device(\"cuda\") if torch.cuda.is_available() else torch.device(\"cpu\")\n",
        "\n",
        "model.to(device)"
      ]
    },
    {
      "cell_type": "code",
      "execution_count": null,
      "metadata": {
        "colab": {
          "base_uri": "https://localhost:8080/",
          "height": 49,
          "referenced_widgets": [
            "f922c33635ab4c18b7cedc5186ea6f7d",
            "96b90b79502542158234b88513963d5c",
            "0287e56f4f424f999d0ee224ac5ae163",
            "189b5ffd456947dabbb1d9c1e557d241",
            "a8991a71eacd4f9aa4d3ad57a7904976",
            "3fc9488c35f64e8ab070f538e698565f",
            "ceedadb67a1943f0903e440db960f172",
            "53ac01e32d5e4bcc879392cef9868109",
            "3085d8bf243c466aa18bce2d4e85e328",
            "7a0b609e01bd42148f410c1f2a14129e",
            "161a68b0746a4ddc9493fd0d8ba92947"
          ]
        },
        "id": "5YC2cdE7SixJ",
        "outputId": "c9e9201f-180c-4b39-9ca5-649e0ce75bab"
      },
      "outputs": [
        {
          "data": {
            "application/vnd.jupyter.widget-view+json": {
              "model_id": "f922c33635ab4c18b7cedc5186ea6f7d",
              "version_major": 2,
              "version_minor": 0
            },
            "text/plain": [
              "  0%|          | 0/1100 [00:00<?, ?it/s]"
            ]
          },
          "metadata": {},
          "output_type": "display_data"
        }
      ],
      "source": [
        "submit = {\"id\":[],'summary':[]}\n",
        "for sample in tqdm(test_dataloader):\n",
        "  ids = sample['id']\n",
        "  sum = tokenizer.batch_decode(model.generate(sample['input_ids'].to(device), num_beams=4, max_length=512, early_stopping=False),skip_special_tokens=True, clean_up_tokenization_spaces=False)\n",
        "  submit['id'].extend(ids)\n",
        "  submit['summary'].extend(sum)"
      ]
    },
    {
      "cell_type": "code",
      "execution_count": null,
      "metadata": {
        "colab": {
          "base_uri": "https://localhost:8080/"
        },
        "id": "q2KbfaU7Z9LH",
        "outputId": "ccfb69ea-25a5-4b87-bc3f-3c817b78b667"
      },
      "outputs": [
        {
          "data": {
            "text/plain": [
              "(6596, 6596)"
            ]
          },
          "execution_count": 18,
          "metadata": {},
          "output_type": "execute_result"
        }
      ],
      "source": [
        "len(submit['id']),len(submit['summary'])"
      ]
    },
    {
      "cell_type": "code",
      "execution_count": null,
      "metadata": {
        "colab": {
          "base_uri": "https://localhost:8080/",
          "height": 424
        },
        "id": "YHo8ZRhzZ6cP",
        "outputId": "dfe9b682-a7e1-44ed-b9e6-bd7f2d29690f"
      },
      "outputs": [
        {
          "data": {
            "text/html": [
              "<div>\n",
              "<style scoped>\n",
              "    .dataframe tbody tr th:only-of-type {\n",
              "        vertical-align: middle;\n",
              "    }\n",
              "\n",
              "    .dataframe tbody tr th {\n",
              "        vertical-align: top;\n",
              "    }\n",
              "\n",
              "    .dataframe thead th {\n",
              "        text-align: right;\n",
              "    }\n",
              "</style>\n",
              "<table border=\"1\" class=\"dataframe\">\n",
              "  <thead>\n",
              "    <tr style=\"text-align: right;\">\n",
              "      <th></th>\n",
              "      <th>id</th>\n",
              "      <th>summary</th>\n",
              "    </tr>\n",
              "  </thead>\n",
              "  <tbody>\n",
              "    <tr>\n",
              "      <th>0</th>\n",
              "      <td>472779091</td>\n",
              "      <td>일본 사법당국의 출국금지 명령이 내려져 있던 카를로스 곤(65) 전 르노닛산 회장이...</td>\n",
              "    </tr>\n",
              "    <tr>\n",
              "      <th>1</th>\n",
              "      <td>472779092</td>\n",
              "      <td>트럼프의 대척점에 선 정치적 입장과 정치인으로서 신선한 이미지를 가진 엘리자베스 워...</td>\n",
              "    </tr>\n",
              "    <tr>\n",
              "      <th>2</th>\n",
              "      <td>472779093</td>\n",
              "      <td>1월 1일 새해 김정은 북한 국무위원장은 대외 메시지인 동시에 북한 주민을 향한 연...</td>\n",
              "    </tr>\n",
              "    <tr>\n",
              "      <th>3</th>\n",
              "      <td>472779094</td>\n",
              "      <td>국내 이동통신 3사(KT·SK텔레콤·LG유플러스)는 산토끼(신규 고객)를 잡느라 집...</td>\n",
              "    </tr>\n",
              "    <tr>\n",
              "      <th>4</th>\n",
              "      <td>472779095</td>\n",
              "      <td>카를로스 곤(66)닛산자동차 전 회장의 ‘보석기간 중 탈출극’으로 인한 일본내 충격...</td>\n",
              "    </tr>\n",
              "    <tr>\n",
              "      <th>...</th>\n",
              "      <td>...</td>\n",
              "      <td>...</td>\n",
              "    </tr>\n",
              "    <tr>\n",
              "      <th>6591</th>\n",
              "      <td>472785682</td>\n",
              "      <td>배출권시장에서 배출권거래중개회사로 거래계정을 등록하려는 자는 원활한 배출권 거래를 ...</td>\n",
              "    </tr>\n",
              "    <tr>\n",
              "      <th>6592</th>\n",
              "      <td>472785683</td>\n",
              "      <td>산업통상자원부와 한국가스안전공사는 불법으로 유통되는 가스 온수매트와 파티오 히터에 ...</td>\n",
              "    </tr>\n",
              "    <tr>\n",
              "      <th>6593</th>\n",
              "      <td>472785684</td>\n",
              "      <td>정부가 올해 안에 2050 탄소중립 시나리오와 2030년 국가 온실가스감축목표(ND...</td>\n",
              "    </tr>\n",
              "    <tr>\n",
              "      <th>6594</th>\n",
              "      <td>472785685</td>\n",
              "      <td>산업통상자원부는 수소차 보급을 늘리고 블루수소 생산·도입을 가속화하기 위해 수소 제...</td>\n",
              "    </tr>\n",
              "    <tr>\n",
              "      <th>6595</th>\n",
              "      <td>472785686</td>\n",
              "      <td>한정애 환경부 장관이 3일(현지시간) 영국 글래스고에서 열린 제26차 유엔기후변화당...</td>\n",
              "    </tr>\n",
              "  </tbody>\n",
              "</table>\n",
              "<p>6596 rows × 2 columns</p>\n",
              "</div>"
            ],
            "text/plain": [
              "             id                                            summary\n",
              "0     472779091  일본 사법당국의 출국금지 명령이 내려져 있던 카를로스 곤(65) 전 르노닛산 회장이...\n",
              "1     472779092  트럼프의 대척점에 선 정치적 입장과 정치인으로서 신선한 이미지를 가진 엘리자베스 워...\n",
              "2     472779093  1월 1일 새해 김정은 북한 국무위원장은 대외 메시지인 동시에 북한 주민을 향한 연...\n",
              "3     472779094  국내 이동통신 3사(KT·SK텔레콤·LG유플러스)는 산토끼(신규 고객)를 잡느라 집...\n",
              "4     472779095  카를로스 곤(66)닛산자동차 전 회장의 ‘보석기간 중 탈출극’으로 인한 일본내 충격...\n",
              "...         ...                                                ...\n",
              "6591  472785682  배출권시장에서 배출권거래중개회사로 거래계정을 등록하려는 자는 원활한 배출권 거래를 ...\n",
              "6592  472785683  산업통상자원부와 한국가스안전공사는 불법으로 유통되는 가스 온수매트와 파티오 히터에 ...\n",
              "6593  472785684  정부가 올해 안에 2050 탄소중립 시나리오와 2030년 국가 온실가스감축목표(ND...\n",
              "6594  472785685  산업통상자원부는 수소차 보급을 늘리고 블루수소 생산·도입을 가속화하기 위해 수소 제...\n",
              "6595  472785686  한정애 환경부 장관이 3일(현지시간) 영국 글래스고에서 열린 제26차 유엔기후변화당...\n",
              "\n",
              "[6596 rows x 2 columns]"
            ]
          },
          "execution_count": 19,
          "metadata": {},
          "output_type": "execute_result"
        }
      ],
      "source": [
        "submission['summary'] = submit['summary']\n",
        "submission"
      ]
    },
    {
      "cell_type": "code",
      "execution_count": null,
      "metadata": {
        "id": "HJiGDeE1aWcA"
      },
      "outputs": [],
      "source": [
        "submission.to_csv(\"/<your_dir>/KoPEGASUS_5_46500_1_done.csv\",index=False)"
      ]
    }
  ],
  "metadata": {
    "accelerator": "GPU",
    "colab": {
      "authorship_tag": "ABX9TyMLXouFuOiZpaP5NLad1yzi",
      "include_colab_link": true,
      "machine_shape": "hm",
      "mount_file_id": "1T5VyP0XPVm9QYC54gmASDbMGKh6CqTWp",
      "name": "[창우]1208_Prediction.ipynb",
      "provenance": []
    },
    "kernelspec": {
      "display_name": "Python 3",
      "name": "python3"
    },
    "language_info": {
      "name": "python"
    },
    "widgets": {
      "application/vnd.jupyter.widget-state+json": {
        "0287e56f4f424f999d0ee224ac5ae163": {
          "model_module": "@jupyter-widgets/controls",
          "model_module_version": "1.5.0",
          "model_name": "HTMLModel",
          "state": {
            "_dom_classes": [],
            "_model_module": "@jupyter-widgets/controls",
            "_model_module_version": "1.5.0",
            "_model_name": "HTMLModel",
            "_view_count": null,
            "_view_module": "@jupyter-widgets/controls",
            "_view_module_version": "1.5.0",
            "_view_name": "HTMLView",
            "description": "",
            "description_tooltip": null,
            "layout": "IPY_MODEL_ceedadb67a1943f0903e440db960f172",
            "placeholder": "​",
            "style": "IPY_MODEL_3fc9488c35f64e8ab070f538e698565f",
            "value": "100%"
          }
        },
        "161a68b0746a4ddc9493fd0d8ba92947": {
          "model_module": "@jupyter-widgets/base",
          "model_module_version": "1.2.0",
          "model_name": "LayoutModel",
          "state": {
            "_model_module": "@jupyter-widgets/base",
            "_model_module_version": "1.2.0",
            "_model_name": "LayoutModel",
            "_view_count": null,
            "_view_module": "@jupyter-widgets/base",
            "_view_module_version": "1.2.0",
            "_view_name": "LayoutView",
            "align_content": null,
            "align_items": null,
            "align_self": null,
            "border": null,
            "bottom": null,
            "display": null,
            "flex": null,
            "flex_flow": null,
            "grid_area": null,
            "grid_auto_columns": null,
            "grid_auto_flow": null,
            "grid_auto_rows": null,
            "grid_column": null,
            "grid_gap": null,
            "grid_row": null,
            "grid_template_areas": null,
            "grid_template_columns": null,
            "grid_template_rows": null,
            "height": null,
            "justify_content": null,
            "justify_items": null,
            "left": null,
            "margin": null,
            "max_height": null,
            "max_width": null,
            "min_height": null,
            "min_width": null,
            "object_fit": null,
            "object_position": null,
            "order": null,
            "overflow": null,
            "overflow_x": null,
            "overflow_y": null,
            "padding": null,
            "right": null,
            "top": null,
            "visibility": null,
            "width": null
          }
        },
        "189b5ffd456947dabbb1d9c1e557d241": {
          "model_module": "@jupyter-widgets/controls",
          "model_module_version": "1.5.0",
          "model_name": "FloatProgressModel",
          "state": {
            "_dom_classes": [],
            "_model_module": "@jupyter-widgets/controls",
            "_model_module_version": "1.5.0",
            "_model_name": "FloatProgressModel",
            "_view_count": null,
            "_view_module": "@jupyter-widgets/controls",
            "_view_module_version": "1.5.0",
            "_view_name": "ProgressView",
            "bar_style": "success",
            "description": "",
            "description_tooltip": null,
            "layout": "IPY_MODEL_3085d8bf243c466aa18bce2d4e85e328",
            "max": 1100,
            "min": 0,
            "orientation": "horizontal",
            "style": "IPY_MODEL_53ac01e32d5e4bcc879392cef9868109",
            "value": 1100
          }
        },
        "3085d8bf243c466aa18bce2d4e85e328": {
          "model_module": "@jupyter-widgets/base",
          "model_module_version": "1.2.0",
          "model_name": "LayoutModel",
          "state": {
            "_model_module": "@jupyter-widgets/base",
            "_model_module_version": "1.2.0",
            "_model_name": "LayoutModel",
            "_view_count": null,
            "_view_module": "@jupyter-widgets/base",
            "_view_module_version": "1.2.0",
            "_view_name": "LayoutView",
            "align_content": null,
            "align_items": null,
            "align_self": null,
            "border": null,
            "bottom": null,
            "display": null,
            "flex": null,
            "flex_flow": null,
            "grid_area": null,
            "grid_auto_columns": null,
            "grid_auto_flow": null,
            "grid_auto_rows": null,
            "grid_column": null,
            "grid_gap": null,
            "grid_row": null,
            "grid_template_areas": null,
            "grid_template_columns": null,
            "grid_template_rows": null,
            "height": null,
            "justify_content": null,
            "justify_items": null,
            "left": null,
            "margin": null,
            "max_height": null,
            "max_width": null,
            "min_height": null,
            "min_width": null,
            "object_fit": null,
            "object_position": null,
            "order": null,
            "overflow": null,
            "overflow_x": null,
            "overflow_y": null,
            "padding": null,
            "right": null,
            "top": null,
            "visibility": null,
            "width": null
          }
        },
        "3fc9488c35f64e8ab070f538e698565f": {
          "model_module": "@jupyter-widgets/controls",
          "model_module_version": "1.5.0",
          "model_name": "DescriptionStyleModel",
          "state": {
            "_model_module": "@jupyter-widgets/controls",
            "_model_module_version": "1.5.0",
            "_model_name": "DescriptionStyleModel",
            "_view_count": null,
            "_view_module": "@jupyter-widgets/base",
            "_view_module_version": "1.2.0",
            "_view_name": "StyleView",
            "description_width": ""
          }
        },
        "53ac01e32d5e4bcc879392cef9868109": {
          "model_module": "@jupyter-widgets/controls",
          "model_module_version": "1.5.0",
          "model_name": "ProgressStyleModel",
          "state": {
            "_model_module": "@jupyter-widgets/controls",
            "_model_module_version": "1.5.0",
            "_model_name": "ProgressStyleModel",
            "_view_count": null,
            "_view_module": "@jupyter-widgets/base",
            "_view_module_version": "1.2.0",
            "_view_name": "StyleView",
            "bar_color": null,
            "description_width": ""
          }
        },
        "7a0b609e01bd42148f410c1f2a14129e": {
          "model_module": "@jupyter-widgets/controls",
          "model_module_version": "1.5.0",
          "model_name": "DescriptionStyleModel",
          "state": {
            "_model_module": "@jupyter-widgets/controls",
            "_model_module_version": "1.5.0",
            "_model_name": "DescriptionStyleModel",
            "_view_count": null,
            "_view_module": "@jupyter-widgets/base",
            "_view_module_version": "1.2.0",
            "_view_name": "StyleView",
            "description_width": ""
          }
        },
        "96b90b79502542158234b88513963d5c": {
          "model_module": "@jupyter-widgets/base",
          "model_module_version": "1.2.0",
          "model_name": "LayoutModel",
          "state": {
            "_model_module": "@jupyter-widgets/base",
            "_model_module_version": "1.2.0",
            "_model_name": "LayoutModel",
            "_view_count": null,
            "_view_module": "@jupyter-widgets/base",
            "_view_module_version": "1.2.0",
            "_view_name": "LayoutView",
            "align_content": null,
            "align_items": null,
            "align_self": null,
            "border": null,
            "bottom": null,
            "display": null,
            "flex": null,
            "flex_flow": null,
            "grid_area": null,
            "grid_auto_columns": null,
            "grid_auto_flow": null,
            "grid_auto_rows": null,
            "grid_column": null,
            "grid_gap": null,
            "grid_row": null,
            "grid_template_areas": null,
            "grid_template_columns": null,
            "grid_template_rows": null,
            "height": null,
            "justify_content": null,
            "justify_items": null,
            "left": null,
            "margin": null,
            "max_height": null,
            "max_width": null,
            "min_height": null,
            "min_width": null,
            "object_fit": null,
            "object_position": null,
            "order": null,
            "overflow": null,
            "overflow_x": null,
            "overflow_y": null,
            "padding": null,
            "right": null,
            "top": null,
            "visibility": null,
            "width": null
          }
        },
        "a8991a71eacd4f9aa4d3ad57a7904976": {
          "model_module": "@jupyter-widgets/controls",
          "model_module_version": "1.5.0",
          "model_name": "HTMLModel",
          "state": {
            "_dom_classes": [],
            "_model_module": "@jupyter-widgets/controls",
            "_model_module_version": "1.5.0",
            "_model_name": "HTMLModel",
            "_view_count": null,
            "_view_module": "@jupyter-widgets/controls",
            "_view_module_version": "1.5.0",
            "_view_name": "HTMLView",
            "description": "",
            "description_tooltip": null,
            "layout": "IPY_MODEL_161a68b0746a4ddc9493fd0d8ba92947",
            "placeholder": "​",
            "style": "IPY_MODEL_7a0b609e01bd42148f410c1f2a14129e",
            "value": " 1100/1100 [19:49&lt;00:00,  2.53s/it]"
          }
        },
        "ceedadb67a1943f0903e440db960f172": {
          "model_module": "@jupyter-widgets/base",
          "model_module_version": "1.2.0",
          "model_name": "LayoutModel",
          "state": {
            "_model_module": "@jupyter-widgets/base",
            "_model_module_version": "1.2.0",
            "_model_name": "LayoutModel",
            "_view_count": null,
            "_view_module": "@jupyter-widgets/base",
            "_view_module_version": "1.2.0",
            "_view_name": "LayoutView",
            "align_content": null,
            "align_items": null,
            "align_self": null,
            "border": null,
            "bottom": null,
            "display": null,
            "flex": null,
            "flex_flow": null,
            "grid_area": null,
            "grid_auto_columns": null,
            "grid_auto_flow": null,
            "grid_auto_rows": null,
            "grid_column": null,
            "grid_gap": null,
            "grid_row": null,
            "grid_template_areas": null,
            "grid_template_columns": null,
            "grid_template_rows": null,
            "height": null,
            "justify_content": null,
            "justify_items": null,
            "left": null,
            "margin": null,
            "max_height": null,
            "max_width": null,
            "min_height": null,
            "min_width": null,
            "object_fit": null,
            "object_position": null,
            "order": null,
            "overflow": null,
            "overflow_x": null,
            "overflow_y": null,
            "padding": null,
            "right": null,
            "top": null,
            "visibility": null,
            "width": null
          }
        },
        "f922c33635ab4c18b7cedc5186ea6f7d": {
          "model_module": "@jupyter-widgets/controls",
          "model_module_version": "1.5.0",
          "model_name": "HBoxModel",
          "state": {
            "_dom_classes": [],
            "_model_module": "@jupyter-widgets/controls",
            "_model_module_version": "1.5.0",
            "_model_name": "HBoxModel",
            "_view_count": null,
            "_view_module": "@jupyter-widgets/controls",
            "_view_module_version": "1.5.0",
            "_view_name": "HBoxView",
            "box_style": "",
            "children": [
              "IPY_MODEL_0287e56f4f424f999d0ee224ac5ae163",
              "IPY_MODEL_189b5ffd456947dabbb1d9c1e557d241",
              "IPY_MODEL_a8991a71eacd4f9aa4d3ad57a7904976"
            ],
            "layout": "IPY_MODEL_96b90b79502542158234b88513963d5c"
          }
        }
      }
    }
  },
  "nbformat": 4,
  "nbformat_minor": 0
}
